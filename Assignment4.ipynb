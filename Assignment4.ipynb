{
 "cells": [
  {
   "cell_type": "code",
   "execution_count": 18,
   "metadata": {
    "collapsed": false
   },
   "outputs": [
    {
     "name": "stdout",
     "output_type": "stream",
     "text": [
      "6.928203230275509\n"
     ]
    }
   ],
   "source": [
    "#1.1\n",
    "class Triangle():\n",
    "    def __init__(self,a,b,c):\n",
    "            self.a=a\n",
    "            self.b=b\n",
    "            self.c=c\n",
    "        \n",
    "    def Area(self):\n",
    "        s=(self.a+self.b+self.c)/2\n",
    "        return (s*(s-self.a)*(s-self.b)*(s-self.c))**0.5\n",
    "\n",
    "Tri=Triangle(4,4,4)\n",
    "print(float(Tri.Area()))"
   ]
  },
  {
   "cell_type": "code",
   "execution_count": 19,
   "metadata": {
    "collapsed": false
   },
   "outputs": [
    {
     "name": "stdout",
     "output_type": "stream",
     "text": [
      "['Praneeth', 'Sudanshu', 'Krish Naik', 'Ineuron']\n"
     ]
    }
   ],
   "source": [
    "#1.2\n",
    "list1=['Praneeth','Sudanshu','Ram','Julia','Krish Naik','Ineuron']\n",
    "n=5\n",
    "def GreaterThanN(lst,N):\n",
    "    Lst2=[]\n",
    "    for ele in list1:\n",
    "        if(len(ele)>N):\n",
    "            Lst2.append(ele)\n",
    "    return Lst2\n",
    "\n",
    "a=GreaterThanN(list1,n);\n",
    "print(a)"
   ]
  },
  {
   "cell_type": "code",
   "execution_count": 20,
   "metadata": {
    "collapsed": false
   },
   "outputs": [
    {
     "name": "stdout",
     "output_type": "stream",
     "text": [
      "[8, 8, 3, 5, 10, 7]\n"
     ]
    }
   ],
   "source": [
    "#2.1\n",
    "list1=['Praneeth','Sudanshu','Ram','Julia','Krish Naik','Ineuron']\n",
    "n=5\n",
    "def Length(lst):\n",
    "    Lst2=[]\n",
    "    for ele in list1:\n",
    "        Lst2.append(len(ele))\n",
    "    return Lst2\n",
    "\n",
    "a=Length(list1);\n",
    "print(a)"
   ]
  },
  {
   "cell_type": "code",
   "execution_count": 21,
   "metadata": {
    "collapsed": false
   },
   "outputs": [
    {
     "name": "stdout",
     "output_type": "stream",
     "text": [
      "True\n"
     ]
    }
   ],
   "source": [
    "#2.2\n",
    "\n",
    "def VowelORnot(a):\n",
    "    vowel=['a','e','i','o','u','A','E','I','O','U']\n",
    "    for ele in vowel:\n",
    "        if(a==ele):\n",
    "            return True\n",
    "    return False\n",
    "b=VowelORnot('o')\n",
    "print(b)"
   ]
  },
  {
   "cell_type": "code",
   "execution_count": 0,
   "metadata": {
    "collapsed": false
   },
   "outputs": [
   ],
   "source": [
   ]
  }
 ],
 "metadata": {
  "kernelspec": {
   "display_name": "Python 3 (system-wide)",
   "language": "python",
   "metadata": {
    "cocalc": {
     "description": "Python 3 programming language",
     "priority": 100,
     "url": "https://www.python.org/"
    }
   },
   "name": "python3"
  },
  "language_info": {
   "codemirror_mode": {
    "name": "ipython",
    "version": 3
   },
   "file_extension": ".py",
   "mimetype": "text/x-python",
   "name": "python",
   "nbconvert_exporter": "python",
   "pygments_lexer": "ipython3",
   "version": "3.6.9"
  }
 },
 "nbformat": 4,
 "nbformat_minor": 4
}