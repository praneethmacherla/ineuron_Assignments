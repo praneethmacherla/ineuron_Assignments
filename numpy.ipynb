{
 "cells": [
  {
   "cell_type": "code",
   "execution_count": 8,
   "metadata": {
    "collapsed": false
   },
   "outputs": [
    {
     "data": {
      "text/plain": [
       "array([[  1,   2,   4,   8],\n",
       "       [  1,   4,  16,  64],\n",
       "       [  1,   6,  36, 216],\n",
       "       [  1,   8,  64, 512]])"
      ]
     },
     "execution_count": 8,
     "metadata": {
     },
     "output_type": "execute_result"
    }
   ],
   "source": [
    "#Question 1:\n",
    "import numpy as np\n",
    "\n",
    "arr=np.array([2,4,6,8])\n",
    "output=np.vander(arr,increasing=Fa)\n",
    "output"
   ]
  },
  {
   "cell_type": "code",
   "execution_count": 0,
   "metadata": {
    "collapsed": false
   },
   "outputs": [
   ],
   "source": [
    "#Question 2:\n",
    "\n",
    "x = [10,20,30,40,50,60,70,80,90,100]\n",
    "W=4\n",
    "y=[]\n",
    "j=0\n",
    "for N in x:\n",
    "    if(j<len(x)-W+1):\n",
    "        sum=0;\n",
    "        i=j;\n",
    "        while i<j+W:\n",
    "            sum=sum+(x[i])\n",
    "            i=i+1\n",
    "        y.append(sum/W)\n",
    "        j=j+1\n",
    "\n",
    "y\n",
    "    "
   ]
  },
  {
   "cell_type": "code",
   "execution_count": 4,
   "metadata": {
    "collapsed": false
   },
   "outputs": [
    {
     "name": "stdout",
     "output_type": "stream",
     "text": [
      "('a', 1)\n",
      "('b', 2)\n",
      "('c', 3)\n"
     ]
    }
   ],
   "source": [
   ]
  },
  {
   "cell_type": "code",
   "execution_count": 0,
   "metadata": {
    "collapsed": false
   },
   "outputs": [
   ],
   "source": [
   ]
  }
 ],
 "metadata": {
  "kernelspec": {
   "display_name": "Python 3 (system-wide)",
   "language": "python",
   "metadata": {
    "cocalc": {
     "description": "Python 3 programming language",
     "priority": 100,
     "url": "https://www.python.org/"
    }
   },
   "name": "python3"
  },
  "language_info": {
   "codemirror_mode": {
    "name": "ipython",
    "version": 3
   },
   "file_extension": ".py",
   "mimetype": "text/x-python",
   "name": "python",
   "nbconvert_exporter": "python",
   "pygments_lexer": "ipython3",
   "version": "3.6.9"
  }
 },
 "nbformat": 4,
 "nbformat_minor": 4
}