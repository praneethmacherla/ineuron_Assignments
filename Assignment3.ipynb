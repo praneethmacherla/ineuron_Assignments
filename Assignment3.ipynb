{
 "cells": [
  {
   "cell_type": "code",
   "execution_count": 2,
   "metadata": {
    "collapsed": false
   },
   "outputs": [
    {
     "name": "stdout",
     "output_type": "stream",
     "text": [
      "36\n"
     ]
    }
   ],
   "source": [
    "#MyReduce funtion for adding the elements in a list\n",
    "import functools\n",
    "lst=[1,2,3,4,5,6,7,8]\n",
    "\n",
    "def myreduce(a):\n",
    "    total=0\n",
    "    for ele in a:\n",
    "        total=total+ele\n",
    "    return total\n",
    "    \n",
    "\n",
    "a=myreduce(lst);\n",
    "print(a)"
   ]
  },
  {
   "cell_type": "code",
   "execution_count": 8,
   "metadata": {
    "collapsed": false
   },
   "outputs": [
    {
     "name": "stdout",
     "output_type": "stream",
     "text": [
      "[2, 4, 6, 8]\n"
     ]
    }
   ],
   "source": [
    "#MyFilter function for filtering only even numbers in a list\n",
    "def MyFilter(a):\n",
    "    l1=[]\n",
    "    for ele in a:\n",
    "        if(ele%2==0):\n",
    "            l1.append(ele)\n",
    "    return l1\n",
    "lis=[1,2,3,4,5,6,7,8]\n",
    "a=MyFilter(lis);\n",
    "print(a)"
   ]
  },
  {
   "cell_type": "code",
   "execution_count": 36,
   "metadata": {
    "collapsed": false
   },
   "outputs": [
    {
     "name": "stdout",
     "output_type": "stream",
     "text": [
      "['x', 'xx', 'xxx', 'xxxx', 'y', 'yy', 'yyy', 'yyyy', 'z', 'zz', 'zzz', 'zzzz']\n"
     ]
    }
   ],
   "source": [
    "#1\n",
    "temp=['x','y','z']\n",
    "inp=[]\n",
    "lis=[(a*i) for a in temp for i in range(1,5) ]\n",
    "print(lis)"
   ]
  },
  {
   "cell_type": "code",
   "execution_count": 35,
   "metadata": {
    "collapsed": false
   },
   "outputs": [
    {
     "name": "stdout",
     "output_type": "stream",
     "text": [
      "['x', 'y', 'z', 'xx', 'yy', 'zz', 'xxx', 'yyy', 'zzz', 'xxxx', 'yyyy', 'zzzz']\n"
     ]
    }
   ],
   "source": [
    "#2\n",
    "temp=['x','y','z']\n",
    "inp=[]\n",
    "lis=[(a*i) for i in range(1,5) for a in temp]\n",
    "print(lis)"
   ]
  },
  {
   "cell_type": "code",
   "execution_count": 47,
   "metadata": {
    "collapsed": false
   },
   "outputs": [
    {
     "name": "stdout",
     "output_type": "stream",
     "text": [
      "[[2], [3], [4], [3], [4], [5], [4], [5], [6]]\n"
     ]
    }
   ],
   "source": [
    "#3\n",
    "temp=[2,3,4]\n",
    "inp=[]\n",
    "lis=[[a] for i in [2,3,4] for a in [i,i+1,i+2]]\n",
    "print(lis)"
   ]
  },
  {
   "cell_type": "code",
   "execution_count": 51,
   "metadata": {
    "collapsed": false
   },
   "outputs": [
    {
     "name": "stdout",
     "output_type": "stream",
     "text": [
      "[[2], [3], [4], [3], [4], [5], [4], [5], [6]]\n",
      "[[2, 3, 4, 5], [3, 4, 5, 6], [4, 5, 6, 7], [5, 6, 7, 8]]\n"
     ]
    }
   ],
   "source": [
    "#4\n",
    "temp=[2,3,4]\n",
    "inp=[]\n",
    "lis=[[a] for i in [2,3,4] for a in [i,i+1,i+2]]\n",
    "print(lis,end='')\n",
    "temp=[2,3,4]\n",
    "inp=[]\n",
    "lis=[[a,a+1,a+2,a+3] for i in [2] for a in [i,i+1,i+2,i+3]]\n",
    "print(lis)"
   ]
  },
  {
   "cell_type": "code",
   "execution_count": 0,
   "metadata": {
    "collapsed": false
   },
   "outputs": [
   ],
   "source": [
   ]
  }
 ],
 "metadata": {
  "kernelspec": {
   "display_name": "Python 3 (system-wide)",
   "language": "python",
   "metadata": {
    "cocalc": {
     "description": "Python 3 programming language",
     "priority": 100,
     "url": "https://www.python.org/"
    }
   },
   "name": "python3"
  },
  "language_info": {
   "codemirror_mode": {
    "name": "ipython",
    "version": 3
   },
   "file_extension": ".py",
   "mimetype": "text/x-python",
   "name": "python",
   "nbconvert_exporter": "python",
   "pygments_lexer": "ipython3",
   "version": "3.6.9"
  }
 },
 "nbformat": 4,
 "nbformat_minor": 4
}